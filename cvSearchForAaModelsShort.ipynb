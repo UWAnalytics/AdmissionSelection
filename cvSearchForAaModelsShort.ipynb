{
 "cells": [
  {
   "cell_type": "markdown",
   "metadata": {},
   "source": [
    "# AdSel Modeling\n",
    "## Step 3: Modeling\n",
    "### Step 3a: Cross validate model hyperparameters\n",
    "\n",
    "The purpose of this script is to optimal hyperparameters for the AA predictive models. This is an optional script in the pipeline. Note - this will take a (very) long time to run.\n",
    "\n",
    "### Goals\n",
    "\n",
    "* Use cross validation to find optimal hyperparameters for AA predictive models\n",
    "\n",
    "### Process\n",
    "\n",
    "* A. Load data and modules\n",
    "* B. Set configurations\n",
    "* C. Preprocessing\n",
    "* D. Cross-validation"
   ]
  },
  {
   "cell_type": "markdown",
   "metadata": {},
   "source": [
    "## Part A - Load data and modules"
   ]
  },
  {
   "cell_type": "code",
   "execution_count": 1,
   "metadata": {},
   "outputs": [],
   "source": [
    "import pandas as pd\n",
    "import pickle\n",
    "import numpy as np\n",
    "import multiprocessing\n",
    "\n",
    "from sklearn.model_selection import train_test_split\n",
    "from sklearn.preprocessing import MinMaxScaler\n",
    "from sklearn.model_selection import GridSearchCV\n",
    "from sklearn.ensemble import GradientBoostingRegressor\n",
    "\n",
    "from sklearn.metrics import mean_squared_error"
   ]
  },
  {
   "cell_type": "code",
   "execution_count": 4,
   "metadata": {},
   "outputs": [],
   "source": [
    "data = pd.read_csv('../../data/processed_data/dataForAaPredictions.csv')"
   ]
  },
  {
   "cell_type": "code",
   "execution_count": 5,
   "metadata": {},
   "outputs": [
    {
     "data": {
      "text/html": [
       "<div>\n",
       "<style scoped>\n",
       "    .dataframe tbody tr th:only-of-type {\n",
       "        vertical-align: middle;\n",
       "    }\n",
       "\n",
       "    .dataframe tbody tr th {\n",
       "        vertical-align: top;\n",
       "    }\n",
       "\n",
       "    .dataframe thead th {\n",
       "        text-align: right;\n",
       "    }\n",
       "</style>\n",
       "<table border=\"1\" class=\"dataframe\">\n",
       "  <thead>\n",
       "    <tr style=\"text-align: right;\">\n",
       "      <th></th>\n",
       "      <th>folderId</th>\n",
       "      <th>applicationType</th>\n",
       "      <th>aaScore</th>\n",
       "      <th>gpa</th>\n",
       "      <th>ibDiplomaProjected</th>\n",
       "      <th>hsMathLevel</th>\n",
       "      <th>deficiencyArts</th>\n",
       "      <th>yrsArts</th>\n",
       "      <th>deficiencyEnglish</th>\n",
       "      <th>yrsEnglish</th>\n",
       "      <th>...</th>\n",
       "      <th>hasCollegeGpa</th>\n",
       "      <th>hasCollegeCredits</th>\n",
       "      <th>avoidedIb</th>\n",
       "      <th>avoidedAp</th>\n",
       "      <th>highTOEFL</th>\n",
       "      <th>highIELTS</th>\n",
       "      <th>predictedSAT</th>\n",
       "      <th>calcPredictedSAT</th>\n",
       "      <th>predictedTOEFL</th>\n",
       "      <th>calcPredictedTOEFL</th>\n",
       "    </tr>\n",
       "  </thead>\n",
       "  <tbody>\n",
       "    <tr>\n",
       "      <td>0</td>\n",
       "      <td>3890DAA4-A2AC-E911-90FA-00505692D664</td>\n",
       "      <td>Freshman</td>\n",
       "      <td>6.0</td>\n",
       "      <td>3.18</td>\n",
       "      <td>False</td>\n",
       "      <td>4.0</td>\n",
       "      <td>0.0</td>\n",
       "      <td>2.386000</td>\n",
       "      <td>0.0</td>\n",
       "      <td>4.016239</td>\n",
       "      <td>...</td>\n",
       "      <td>False</td>\n",
       "      <td>False</td>\n",
       "      <td>False</td>\n",
       "      <td>False</td>\n",
       "      <td>False</td>\n",
       "      <td>False</td>\n",
       "      <td>1091.027139</td>\n",
       "      <td>False</td>\n",
       "      <td>87.240594</td>\n",
       "      <td>False</td>\n",
       "    </tr>\n",
       "    <tr>\n",
       "      <td>1</td>\n",
       "      <td>E83E41B7-7FB3-E911-90FA-00505692D664</td>\n",
       "      <td>Freshman</td>\n",
       "      <td>9.0</td>\n",
       "      <td>3.16</td>\n",
       "      <td>False</td>\n",
       "      <td>4.0</td>\n",
       "      <td>0.0</td>\n",
       "      <td>2.386324</td>\n",
       "      <td>0.0</td>\n",
       "      <td>4.016150</td>\n",
       "      <td>...</td>\n",
       "      <td>True</td>\n",
       "      <td>False</td>\n",
       "      <td>False</td>\n",
       "      <td>False</td>\n",
       "      <td>False</td>\n",
       "      <td>False</td>\n",
       "      <td>1153.546231</td>\n",
       "      <td>False</td>\n",
       "      <td>105.764698</td>\n",
       "      <td>False</td>\n",
       "    </tr>\n",
       "    <tr>\n",
       "      <td>2</td>\n",
       "      <td>EB6B2BB9-FFB8-E911-90FA-00505692D664</td>\n",
       "      <td>Freshman</td>\n",
       "      <td>17.0</td>\n",
       "      <td>3.95</td>\n",
       "      <td>False</td>\n",
       "      <td>5.0</td>\n",
       "      <td>0.0</td>\n",
       "      <td>2.247160</td>\n",
       "      <td>0.0</td>\n",
       "      <td>4.006289</td>\n",
       "      <td>...</td>\n",
       "      <td>False</td>\n",
       "      <td>False</td>\n",
       "      <td>False</td>\n",
       "      <td>False</td>\n",
       "      <td>False</td>\n",
       "      <td>False</td>\n",
       "      <td>1285.029809</td>\n",
       "      <td>False</td>\n",
       "      <td>92.499766</td>\n",
       "      <td>False</td>\n",
       "    </tr>\n",
       "    <tr>\n",
       "      <td>3</td>\n",
       "      <td>BEFDE9D7-C7C4-E911-90FB-00505692D664</td>\n",
       "      <td>Freshman</td>\n",
       "      <td>12.0</td>\n",
       "      <td>3.90</td>\n",
       "      <td>False</td>\n",
       "      <td>5.0</td>\n",
       "      <td>0.0</td>\n",
       "      <td>2.304902</td>\n",
       "      <td>0.0</td>\n",
       "      <td>3.996059</td>\n",
       "      <td>...</td>\n",
       "      <td>False</td>\n",
       "      <td>False</td>\n",
       "      <td>False</td>\n",
       "      <td>False</td>\n",
       "      <td>False</td>\n",
       "      <td>False</td>\n",
       "      <td>1269.673844</td>\n",
       "      <td>False</td>\n",
       "      <td>100.538146</td>\n",
       "      <td>False</td>\n",
       "    </tr>\n",
       "    <tr>\n",
       "      <td>4</td>\n",
       "      <td>35D869E3-EDC7-E911-90FB-00505692D664</td>\n",
       "      <td>Freshman</td>\n",
       "      <td>8.0</td>\n",
       "      <td>3.46</td>\n",
       "      <td>False</td>\n",
       "      <td>3.0</td>\n",
       "      <td>0.0</td>\n",
       "      <td>2.386324</td>\n",
       "      <td>0.0</td>\n",
       "      <td>4.016150</td>\n",
       "      <td>...</td>\n",
       "      <td>True</td>\n",
       "      <td>False</td>\n",
       "      <td>False</td>\n",
       "      <td>False</td>\n",
       "      <td>False</td>\n",
       "      <td>False</td>\n",
       "      <td>826.700887</td>\n",
       "      <td>False</td>\n",
       "      <td>96.279605</td>\n",
       "      <td>False</td>\n",
       "    </tr>\n",
       "  </tbody>\n",
       "</table>\n",
       "<p>5 rows × 314 columns</p>\n",
       "</div>"
      ],
      "text/plain": [
       "                               folderId applicationType  aaScore   gpa  \\\n",
       "0  3890DAA4-A2AC-E911-90FA-00505692D664        Freshman      6.0  3.18   \n",
       "1  E83E41B7-7FB3-E911-90FA-00505692D664        Freshman      9.0  3.16   \n",
       "2  EB6B2BB9-FFB8-E911-90FA-00505692D664        Freshman     17.0  3.95   \n",
       "3  BEFDE9D7-C7C4-E911-90FB-00505692D664        Freshman     12.0  3.90   \n",
       "4  35D869E3-EDC7-E911-90FB-00505692D664        Freshman      8.0  3.46   \n",
       "\n",
       "   ibDiplomaProjected  hsMathLevel  deficiencyArts   yrsArts  \\\n",
       "0               False          4.0             0.0  2.386000   \n",
       "1               False          4.0             0.0  2.386324   \n",
       "2               False          5.0             0.0  2.247160   \n",
       "3               False          5.0             0.0  2.304902   \n",
       "4               False          3.0             0.0  2.386324   \n",
       "\n",
       "   deficiencyEnglish  yrsEnglish  ...  hasCollegeGpa  hasCollegeCredits  \\\n",
       "0                0.0    4.016239  ...          False              False   \n",
       "1                0.0    4.016150  ...           True              False   \n",
       "2                0.0    4.006289  ...          False              False   \n",
       "3                0.0    3.996059  ...          False              False   \n",
       "4                0.0    4.016150  ...           True              False   \n",
       "\n",
       "   avoidedIb  avoidedAp  highTOEFL  highIELTS  predictedSAT  calcPredictedSAT  \\\n",
       "0      False      False      False      False   1091.027139             False   \n",
       "1      False      False      False      False   1153.546231             False   \n",
       "2      False      False      False      False   1285.029809             False   \n",
       "3      False      False      False      False   1269.673844             False   \n",
       "4      False      False      False      False    826.700887             False   \n",
       "\n",
       "   predictedTOEFL  calcPredictedTOEFL  \n",
       "0       87.240594               False  \n",
       "1      105.764698               False  \n",
       "2       92.499766               False  \n",
       "3      100.538146               False  \n",
       "4       96.279605               False  \n",
       "\n",
       "[5 rows x 314 columns]"
      ]
     },
     "execution_count": 5,
     "metadata": {},
     "output_type": "execute_result"
    }
   ],
   "source": [
    "data.head()"
   ]
  },
  {
   "cell_type": "code",
   "execution_count": 6,
   "metadata": {},
   "outputs": [
    {
     "data": {
      "text/plain": [
       "Index(['folderId', 'applicationType', 'aaScore', 'gpa', 'ibDiplomaProjected',\n",
       "       'hsMathLevel', 'deficiencyArts', 'yrsArts', 'deficiencyEnglish',\n",
       "       'yrsEnglish',\n",
       "       ...\n",
       "       'hasCollegeGpa', 'hasCollegeCredits', 'avoidedIb', 'avoidedAp',\n",
       "       'highTOEFL', 'highIELTS', 'predictedSAT', 'calcPredictedSAT',\n",
       "       'predictedTOEFL', 'calcPredictedTOEFL'],\n",
       "      dtype='object', length=314)"
      ]
     },
     "execution_count": 6,
     "metadata": {},
     "output_type": "execute_result"
    }
   ],
   "source": [
    "data.columns"
   ]
  },
  {
   "cell_type": "markdown",
   "metadata": {},
   "source": [
    "## Part B - Set configurations"
   ]
  },
  {
   "cell_type": "code",
   "execution_count": 2,
   "metadata": {},
   "outputs": [],
   "source": [
    "save_results = True"
   ]
  },
  {
   "cell_type": "code",
   "execution_count": 3,
   "metadata": {},
   "outputs": [],
   "source": [
    "cores = multiprocessing.cpu_count()"
   ]
  },
  {
   "cell_type": "code",
   "execution_count": 19,
   "metadata": {},
   "outputs": [],
   "source": [
    "parameters = { #these can be altered/fine-tuned\n",
    "    'max_depth': [5, 7, 9],\n",
    "    'learning_rate': [1, 0.1, 0.01],\n",
    "    'min_samples_split': [2, 5, 10, 20],\n",
    "    'min_samples_leaf': [1, 2, 5],\n",
    "    'max_features': [0.5, 0.75, 0.9, 1.0]\n",
    "}"
   ]
  },
  {
   "cell_type": "markdown",
   "metadata": {},
   "source": [
    "## Part C - Preprocessing"
   ]
  },
  {
   "cell_type": "code",
   "execution_count": 7,
   "metadata": {},
   "outputs": [],
   "source": [
    "allData = data.copy()\n",
    "allData = allData[allData.aaScore.notna()]"
   ]
  },
  {
   "cell_type": "code",
   "execution_count": 8,
   "metadata": {},
   "outputs": [
    {
     "data": {
      "text/plain": [
       "179170"
      ]
     },
     "execution_count": 8,
     "metadata": {},
     "output_type": "execute_result"
    }
   ],
   "source": [
    "len(allData)"
   ]
  },
  {
   "cell_type": "code",
   "execution_count": 9,
   "metadata": {},
   "outputs": [],
   "source": [
    "cols = []\n",
    "for col in allData.columns:\n",
    "    current = allData[col]\n",
    "    for each in current:\n",
    "        try:\n",
    "            float(each)\n",
    "        except ValueError:\n",
    "            cols.append(col)"
   ]
  },
  {
   "cell_type": "code",
   "execution_count": 10,
   "metadata": {},
   "outputs": [],
   "source": [
    "cols = list(set(cols))"
   ]
  },
  {
   "cell_type": "code",
   "execution_count": 11,
   "metadata": {},
   "outputs": [
    {
     "data": {
      "text/plain": [
       "['applicationType', 'folderId']"
      ]
     },
     "execution_count": 11,
     "metadata": {},
     "output_type": "execute_result"
    }
   ],
   "source": [
    "cols"
   ]
  },
  {
   "cell_type": "code",
   "execution_count": 12,
   "metadata": {},
   "outputs": [],
   "source": [
    "allData = allData.drop(cols, axis = 1).astype(float)"
   ]
  },
  {
   "cell_type": "code",
   "execution_count": 13,
   "metadata": {},
   "outputs": [
    {
     "data": {
      "text/plain": [
       "2018.0    44659\n",
       "2019.0    44564\n",
       "2017.0    43926\n",
       "2016.0    42650\n",
       "2020.0     3371\n",
       "Name: entryYear, dtype: int64"
      ]
     },
     "execution_count": 13,
     "metadata": {},
     "output_type": "execute_result"
    }
   ],
   "source": [
    "allData.entryYear.value_counts()"
   ]
  },
  {
   "cell_type": "markdown",
   "metadata": {},
   "source": [
    "## Part D - Cross-validation"
   ]
  },
  {
   "cell_type": "markdown",
   "metadata": {},
   "source": [
    "### First, resident students"
   ]
  },
  {
   "cell_type": "code",
   "execution_count": 14,
   "metadata": {},
   "outputs": [],
   "source": [
    "currentData = allData[allData['resident'] == 1].copy()"
   ]
  },
  {
   "cell_type": "code",
   "execution_count": 15,
   "metadata": {},
   "outputs": [],
   "source": [
    "currentX = currentData.drop('aaScore', axis = 1)\n",
    "currentY = currentData[['aaScore']]"
   ]
  },
  {
   "cell_type": "code",
   "execution_count": 16,
   "metadata": {},
   "outputs": [],
   "source": [
    "scalerResX = MinMaxScaler()\n",
    "scaledX = scalerResX.fit_transform(currentX)\n",
    "scalerResY = MinMaxScaler()\n",
    "scaledY = scalerResY.fit_transform(currentY)"
   ]
  },
  {
   "cell_type": "code",
   "execution_count": 22,
   "metadata": {},
   "outputs": [],
   "source": [
    "xgbRes = GradientBoostingRegressor()"
   ]
  },
  {
   "cell_type": "code",
   "execution_count": 23,
   "metadata": {},
   "outputs": [],
   "source": [
    "clf = GridSearchCV(xgbRes, parameters, n_jobs = cores - 1, verbose = 1)"
   ]
  },
  {
   "cell_type": "code",
   "execution_count": 24,
   "metadata": {},
   "outputs": [
    {
     "name": "stdout",
     "output_type": "stream",
     "text": [
      "Fitting 3 folds for each of 432 candidates, totalling 1296 fits\n"
     ]
    },
    {
     "name": "stderr",
     "output_type": "stream",
     "text": [
      "[Parallel(n_jobs=7)]: Using backend LokyBackend with 7 concurrent workers.\n",
      "[Parallel(n_jobs=7)]: Done  36 tasks      | elapsed: 18.1min\n",
      "[Parallel(n_jobs=7)]: Done 186 tasks      | elapsed: 128.7min\n",
      "[Parallel(n_jobs=7)]: Done 436 tasks      | elapsed: 378.6min\n",
      "[Parallel(n_jobs=7)]: Done 786 tasks      | elapsed: 623.7min\n",
      "[Parallel(n_jobs=7)]: Done 1236 tasks      | elapsed: 1081.7min\n",
      "[Parallel(n_jobs=7)]: Done 1296 out of 1296 | elapsed: 1207.1min finished\n",
      "c:\\users\\laulck\\appdata\\local\\programs\\python\\python37\\lib\\site-packages\\sklearn\\ensemble\\gradient_boosting.py:1450: DataConversionWarning: A column-vector y was passed when a 1d array was expected. Please change the shape of y to (n_samples, ), for example using ravel().\n",
      "  y = column_or_1d(y, warn=True)\n"
     ]
    },
    {
     "data": {
      "text/plain": [
       "GridSearchCV(cv='warn', error_score='raise-deprecating',\n",
       "             estimator=GradientBoostingRegressor(alpha=0.9,\n",
       "                                                 criterion='friedman_mse',\n",
       "                                                 init=None, learning_rate=0.1,\n",
       "                                                 loss='ls', max_depth=3,\n",
       "                                                 max_features=None,\n",
       "                                                 max_leaf_nodes=None,\n",
       "                                                 min_impurity_decrease=0.0,\n",
       "                                                 min_impurity_split=None,\n",
       "                                                 min_samples_leaf=1,\n",
       "                                                 min_samples_split=2,\n",
       "                                                 min_weight_fraction_leaf=0.0,\n",
       "                                                 n_estimators=100,\n",
       "                                                 n...\n",
       "                                                 random_state=None,\n",
       "                                                 subsample=1.0, tol=0.0001,\n",
       "                                                 validation_fraction=0.1,\n",
       "                                                 verbose=0, warm_start=False),\n",
       "             iid='warn', n_jobs=7,\n",
       "             param_grid={'learning_rate': [1, 0.1, 0.01],\n",
       "                         'max_depth': [5, 7, 9],\n",
       "                         'max_features': [0.5, 0.75, 0.9, 1.0],\n",
       "                         'min_samples_leaf': [1, 2, 5],\n",
       "                         'min_samples_split': [2, 5, 10, 20]},\n",
       "             pre_dispatch='2*n_jobs', refit=True, return_train_score=False,\n",
       "             scoring=None, verbose=1)"
      ]
     },
     "execution_count": 24,
     "metadata": {},
     "output_type": "execute_result"
    }
   ],
   "source": [
    "clf.fit(scaledX, scaledY)"
   ]
  },
  {
   "cell_type": "code",
   "execution_count": 25,
   "metadata": {},
   "outputs": [
    {
     "data": {
      "text/plain": [
       "{'learning_rate': 0.1,\n",
       " 'max_depth': 7,\n",
       " 'max_features': 0.5,\n",
       " 'min_samples_leaf': 2,\n",
       " 'min_samples_split': 10}"
      ]
     },
     "execution_count": 25,
     "metadata": {},
     "output_type": "execute_result"
    }
   ],
   "source": [
    "paramsRes = clf.best_params_\n",
    "paramsRes"
   ]
  },
  {
   "cell_type": "code",
   "execution_count": 26,
   "metadata": {},
   "outputs": [],
   "source": [
    "if save_results: #save prediction model\n",
    "    output_name = '../../outputs/resAaParams.pkl'\n",
    "    with open(output_name, 'wb') as output:\n",
    "        pickle.dump(paramsRes, output, pickle.HIGHEST_PROTOCOL)"
   ]
  }
 ],
 "metadata": {
  "kernelspec": {
   "display_name": "Python 3",
   "language": "python",
   "name": "python3"
  },
  "language_info": {
   "codemirror_mode": {
    "name": "ipython",
    "version": 3
   },
   "file_extension": ".py",
   "mimetype": "text/x-python",
   "name": "python",
   "nbconvert_exporter": "python",
   "pygments_lexer": "ipython3",
   "version": "3.7.4"
  }
 },
 "nbformat": 4,
 "nbformat_minor": 2
}
