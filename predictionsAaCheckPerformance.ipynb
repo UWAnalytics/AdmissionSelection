{
 "cells": [
  {
   "cell_type": "markdown",
   "metadata": {},
   "source": [
    "# AdSel Modeling\n",
    "## Step 3: Modeling\n",
    "### Step 3b: Check/validate model performance\n",
    "\n",
    "The purpose of this script is to test the performance of the AA predictive models. This is an optional script in the pipeline.\n",
    "\n",
    "### Goals\n",
    "\n",
    "* Determine performance of AA predictive models\n",
    "\n",
    "### Process\n",
    "\n",
    "* A. Load data and modules\n",
    "* B. Set configurations\n",
    "* C. Preprocessing\n",
    "* D. Splits and scaling\n",
    "* E. Predictions\n",
    "* F. Check predictions\n",
    "* G. Check prediction performance\n",
    "* H. Save errors\n",
    "* I. Historic predictions"
   ]
  },
  {
   "cell_type": "markdown",
   "metadata": {},
   "source": [
    "## Part A - Load data and modules"
   ]
  },
  {
   "cell_type": "code",
   "execution_count": 2,
   "metadata": {},
   "outputs": [],
   "source": [
    "import pandas as pd\n",
    "import numpy as np\n",
    "import seaborn as sns\n",
    "import statsmodels.api as sm\n",
    "import matplotlib.pyplot as plt\n",
    "import os\n",
    "import pickle\n",
    "\n",
    "from sklearn.model_selection import train_test_split\n",
    "from sklearn.preprocessing import MinMaxScaler\n",
    "from sklearn.model_selection import GridSearchCV\n",
    "from sklearn.linear_model import LinearRegression\n",
    "from sklearn.linear_model import ElasticNetCV\n",
    "from sklearn.ensemble import RandomForestRegressor\n",
    "from sklearn.ensemble import GradientBoostingRegressor\n",
    "\n",
    "from sklearn.metrics import mean_squared_error"
   ]
  },
  {
   "cell_type": "code",
   "execution_count": 3,
   "metadata": {},
   "outputs": [],
   "source": [
    "data = pd.read_csv('../../data/processed_data/dataForAaPredictions.csv')"
   ]
  },
  {
   "cell_type": "code",
   "execution_count": 4,
   "metadata": {},
   "outputs": [
    {
     "data": {
      "text/html": [
       "<div>\n",
       "<style scoped>\n",
       "    .dataframe tbody tr th:only-of-type {\n",
       "        vertical-align: middle;\n",
       "    }\n",
       "\n",
       "    .dataframe tbody tr th {\n",
       "        vertical-align: top;\n",
       "    }\n",
       "\n",
       "    .dataframe thead th {\n",
       "        text-align: right;\n",
       "    }\n",
       "</style>\n",
       "<table border=\"1\" class=\"dataframe\">\n",
       "  <thead>\n",
       "    <tr style=\"text-align: right;\">\n",
       "      <th></th>\n",
       "      <th>folderId</th>\n",
       "      <th>applicationType</th>\n",
       "      <th>aaScore</th>\n",
       "      <th>gpa</th>\n",
       "      <th>ibDiplomaProjected</th>\n",
       "      <th>hsMathLevel</th>\n",
       "      <th>deficiencyArts</th>\n",
       "      <th>yrsArts</th>\n",
       "      <th>deficiencyEnglish</th>\n",
       "      <th>yrsEnglish</th>\n",
       "      <th>...</th>\n",
       "      <th>hasCollegeGpa</th>\n",
       "      <th>hasCollegeCredits</th>\n",
       "      <th>avoidedIb</th>\n",
       "      <th>avoidedAp</th>\n",
       "      <th>highTOEFL</th>\n",
       "      <th>highIELTS</th>\n",
       "      <th>predictedSAT</th>\n",
       "      <th>calcPredictedSAT</th>\n",
       "      <th>predictedTOEFL</th>\n",
       "      <th>calcPredictedTOEFL</th>\n",
       "    </tr>\n",
       "  </thead>\n",
       "  <tbody>\n",
       "    <tr>\n",
       "      <td>0</td>\n",
       "      <td>3890DAA4-A2AC-E911-90FA-00505692D664</td>\n",
       "      <td>Freshman</td>\n",
       "      <td>6.0</td>\n",
       "      <td>3.18</td>\n",
       "      <td>False</td>\n",
       "      <td>4.0</td>\n",
       "      <td>0.0</td>\n",
       "      <td>2.385866</td>\n",
       "      <td>0.0</td>\n",
       "      <td>4.016217</td>\n",
       "      <td>...</td>\n",
       "      <td>False</td>\n",
       "      <td>False</td>\n",
       "      <td>False</td>\n",
       "      <td>False</td>\n",
       "      <td>False</td>\n",
       "      <td>False</td>\n",
       "      <td>1092.058343</td>\n",
       "      <td>False</td>\n",
       "      <td>91.961422</td>\n",
       "      <td>False</td>\n",
       "    </tr>\n",
       "    <tr>\n",
       "      <td>1</td>\n",
       "      <td>E83E41B7-7FB3-E911-90FA-00505692D664</td>\n",
       "      <td>Freshman</td>\n",
       "      <td>9.0</td>\n",
       "      <td>3.16</td>\n",
       "      <td>False</td>\n",
       "      <td>4.0</td>\n",
       "      <td>0.0</td>\n",
       "      <td>2.386164</td>\n",
       "      <td>0.0</td>\n",
       "      <td>4.016098</td>\n",
       "      <td>...</td>\n",
       "      <td>True</td>\n",
       "      <td>False</td>\n",
       "      <td>False</td>\n",
       "      <td>False</td>\n",
       "      <td>False</td>\n",
       "      <td>False</td>\n",
       "      <td>1166.142872</td>\n",
       "      <td>False</td>\n",
       "      <td>106.588089</td>\n",
       "      <td>False</td>\n",
       "    </tr>\n",
       "    <tr>\n",
       "      <td>2</td>\n",
       "      <td>EB6B2BB9-FFB8-E911-90FA-00505692D664</td>\n",
       "      <td>Freshman</td>\n",
       "      <td>17.0</td>\n",
       "      <td>3.95</td>\n",
       "      <td>False</td>\n",
       "      <td>5.0</td>\n",
       "      <td>0.0</td>\n",
       "      <td>2.225078</td>\n",
       "      <td>0.0</td>\n",
       "      <td>4.005917</td>\n",
       "      <td>...</td>\n",
       "      <td>False</td>\n",
       "      <td>False</td>\n",
       "      <td>False</td>\n",
       "      <td>False</td>\n",
       "      <td>False</td>\n",
       "      <td>False</td>\n",
       "      <td>1288.544566</td>\n",
       "      <td>False</td>\n",
       "      <td>98.241332</td>\n",
       "      <td>False</td>\n",
       "    </tr>\n",
       "    <tr>\n",
       "      <td>3</td>\n",
       "      <td>BEFDE9D7-C7C4-E911-90FB-00505692D664</td>\n",
       "      <td>Freshman</td>\n",
       "      <td>12.0</td>\n",
       "      <td>3.90</td>\n",
       "      <td>False</td>\n",
       "      <td>5.0</td>\n",
       "      <td>0.0</td>\n",
       "      <td>2.309290</td>\n",
       "      <td>0.0</td>\n",
       "      <td>4.001536</td>\n",
       "      <td>...</td>\n",
       "      <td>False</td>\n",
       "      <td>False</td>\n",
       "      <td>False</td>\n",
       "      <td>False</td>\n",
       "      <td>False</td>\n",
       "      <td>False</td>\n",
       "      <td>1266.920987</td>\n",
       "      <td>False</td>\n",
       "      <td>104.599934</td>\n",
       "      <td>False</td>\n",
       "    </tr>\n",
       "    <tr>\n",
       "      <td>4</td>\n",
       "      <td>35D869E3-EDC7-E911-90FB-00505692D664</td>\n",
       "      <td>Freshman</td>\n",
       "      <td>8.0</td>\n",
       "      <td>3.46</td>\n",
       "      <td>False</td>\n",
       "      <td>3.0</td>\n",
       "      <td>0.0</td>\n",
       "      <td>2.386164</td>\n",
       "      <td>0.0</td>\n",
       "      <td>4.016098</td>\n",
       "      <td>...</td>\n",
       "      <td>True</td>\n",
       "      <td>False</td>\n",
       "      <td>False</td>\n",
       "      <td>False</td>\n",
       "      <td>False</td>\n",
       "      <td>False</td>\n",
       "      <td>856.910316</td>\n",
       "      <td>False</td>\n",
       "      <td>97.773096</td>\n",
       "      <td>False</td>\n",
       "    </tr>\n",
       "  </tbody>\n",
       "</table>\n",
       "<p>5 rows × 314 columns</p>\n",
       "</div>"
      ],
      "text/plain": [
       "                               folderId applicationType  aaScore   gpa  \\\n",
       "0  3890DAA4-A2AC-E911-90FA-00505692D664        Freshman      6.0  3.18   \n",
       "1  E83E41B7-7FB3-E911-90FA-00505692D664        Freshman      9.0  3.16   \n",
       "2  EB6B2BB9-FFB8-E911-90FA-00505692D664        Freshman     17.0  3.95   \n",
       "3  BEFDE9D7-C7C4-E911-90FB-00505692D664        Freshman     12.0  3.90   \n",
       "4  35D869E3-EDC7-E911-90FB-00505692D664        Freshman      8.0  3.46   \n",
       "\n",
       "   ibDiplomaProjected  hsMathLevel  deficiencyArts   yrsArts  \\\n",
       "0               False          4.0             0.0  2.385866   \n",
       "1               False          4.0             0.0  2.386164   \n",
       "2               False          5.0             0.0  2.225078   \n",
       "3               False          5.0             0.0  2.309290   \n",
       "4               False          3.0             0.0  2.386164   \n",
       "\n",
       "   deficiencyEnglish  yrsEnglish  ...  hasCollegeGpa  hasCollegeCredits  \\\n",
       "0                0.0    4.016217  ...          False              False   \n",
       "1                0.0    4.016098  ...           True              False   \n",
       "2                0.0    4.005917  ...          False              False   \n",
       "3                0.0    4.001536  ...          False              False   \n",
       "4                0.0    4.016098  ...           True              False   \n",
       "\n",
       "   avoidedIb  avoidedAp  highTOEFL  highIELTS  predictedSAT  calcPredictedSAT  \\\n",
       "0      False      False      False      False   1092.058343             False   \n",
       "1      False      False      False      False   1166.142872             False   \n",
       "2      False      False      False      False   1288.544566             False   \n",
       "3      False      False      False      False   1266.920987             False   \n",
       "4      False      False      False      False    856.910316             False   \n",
       "\n",
       "   predictedTOEFL  calcPredictedTOEFL  \n",
       "0       91.961422               False  \n",
       "1      106.588089               False  \n",
       "2       98.241332               False  \n",
       "3      104.599934               False  \n",
       "4       97.773096               False  \n",
       "\n",
       "[5 rows x 314 columns]"
      ]
     },
     "execution_count": 4,
     "metadata": {},
     "output_type": "execute_result"
    }
   ],
   "source": [
    "data.head()"
   ]
  },
  {
   "cell_type": "code",
   "execution_count": 5,
   "metadata": {},
   "outputs": [
    {
     "data": {
      "text/plain": [
       "Index(['folderId', 'applicationType', 'aaScore', 'gpa', 'ibDiplomaProjected',\n",
       "       'hsMathLevel', 'deficiencyArts', 'yrsArts', 'deficiencyEnglish',\n",
       "       'yrsEnglish',\n",
       "       ...\n",
       "       'hasCollegeGpa', 'hasCollegeCredits', 'avoidedIb', 'avoidedAp',\n",
       "       'highTOEFL', 'highIELTS', 'predictedSAT', 'calcPredictedSAT',\n",
       "       'predictedTOEFL', 'calcPredictedTOEFL'],\n",
       "      dtype='object', length=314)"
      ]
     },
     "execution_count": 5,
     "metadata": {},
     "output_type": "execute_result"
    }
   ],
   "source": [
    "data.columns"
   ]
  },
  {
   "cell_type": "markdown",
   "metadata": {},
   "source": [
    "## Part B - Set configurations"
   ]
  },
  {
   "cell_type": "code",
   "execution_count": 6,
   "metadata": {},
   "outputs": [],
   "source": [
    "saveErrors = True"
   ]
  },
  {
   "cell_type": "code",
   "execution_count": 7,
   "metadata": {},
   "outputs": [],
   "source": [
    "allData = data.copy()\n",
    "allData = allData[allData.entryYear < 2020]"
   ]
  },
  {
   "cell_type": "code",
   "execution_count": 8,
   "metadata": {},
   "outputs": [],
   "source": [
    "studentTag = 'non-resident' #what types of students to look at? resident, non-resident, international\n",
    "\n",
    "allData = allData[allData[studentTag] == 1]\n",
    "paramLocDict = {\n",
    "    'resident': '../../outputs/resAaParams.pkl',\n",
    "    'non-resident' : '../../outputs/dnrAaParams.pkl',\n",
    "    'international' : '../../outputs/intlAaParams.pkl'\n",
    "}\n",
    "paramLoc = paramLocDict[studentTag]"
   ]
  },
  {
   "cell_type": "code",
   "execution_count": 9,
   "metadata": {},
   "outputs": [],
   "source": [
    "if os.path.isfile(paramLoc):\n",
    "    with open(paramLoc, 'rb') as pickleIn:\n",
    "        params = pickle.load(pickleIn)\n",
    "else:\n",
    "    params = {}"
   ]
  },
  {
   "cell_type": "code",
   "execution_count": 10,
   "metadata": {},
   "outputs": [
    {
     "data": {
      "text/plain": [
       "{'learning_rate': 0.1,\n",
       " 'max_depth': 9,\n",
       " 'max_features': 0.5,\n",
       " 'min_samples_leaf': 5,\n",
       " 'min_samples_split': 10}"
      ]
     },
     "execution_count": 10,
     "metadata": {},
     "output_type": "execute_result"
    }
   ],
   "source": [
    "params"
   ]
  },
  {
   "cell_type": "code",
   "execution_count": 11,
   "metadata": {},
   "outputs": [
    {
     "data": {
      "text/plain": [
       "87963"
      ]
     },
     "execution_count": 11,
     "metadata": {},
     "output_type": "execute_result"
    }
   ],
   "source": [
    "len(allData)"
   ]
  },
  {
   "cell_type": "markdown",
   "metadata": {},
   "source": [
    "## Part C - Preprocessing"
   ]
  },
  {
   "cell_type": "code",
   "execution_count": 12,
   "metadata": {},
   "outputs": [
    {
     "data": {
      "text/plain": [
       "Text(0, 0.5, 'Count')"
      ]
     },
     "execution_count": 12,
     "metadata": {},
     "output_type": "execute_result"
    },
    {
     "data": {
      "image/png": "[encoded data removed]",
      "text/plain": [
       "<Figure size 432x288 with 1 Axes>"
      ]
     },
     "metadata": {
      "needs_background": "light"
     },
     "output_type": "display_data"
    }
   ],
   "source": [
    "ax = plt.subplot(111)\n",
    "p = sns.distplot(allData.aaScore, bins = np.arange(0, allData.aaScore.max() + 2), norm_hist = False, \n",
    "                 kde = False)\n",
    "p.set(xticks= np.arange(0.5, allData.aaScore.max() + 1.5), \n",
    "      xticklabels = [str(int(x)) for x in np.arange(0, allData.aaScore.max() + 1)],\n",
    "      zorder = 10);\n",
    "\n",
    "# Hide the right and top spines\n",
    "ax.spines['right'].set_visible(False)\n",
    "ax.spines['top'].set_visible(False)\n",
    "\n",
    "# Only show ticks on the left and bottom spines\n",
    "ax.yaxis.set_ticks_position('left')\n",
    "ax.xaxis.set_ticks_position('bottom')\n",
    "\n",
    "ax.grid(axis = 'y', zorder = 1)\n",
    "\n",
    "plt.xlim([0, 19])\n",
    "\n",
    "plt.xlabel('Academic Sub Score')\n",
    "plt.ylabel('Count')"
   ]
  },
  {
   "cell_type": "code",
   "execution_count": 13,
   "metadata": {},
   "outputs": [],
   "source": [
    "cols = []\n",
    "for col in allData.columns:\n",
    "    current = allData[col]\n",
    "    for each in current:\n",
    "        try:\n",
    "            float(each)\n",
    "        except ValueError:\n",
    "            cols.append(col)"
   ]
  },
  {
   "cell_type": "code",
   "execution_count": 14,
   "metadata": {},
   "outputs": [],
   "source": [
    "cols = list(set(cols))"
   ]
  },
  {
   "cell_type": "code",
   "execution_count": 15,
   "metadata": {},
   "outputs": [
    {
     "data": {
      "text/plain": [
       "['folderId', 'applicationType']"
      ]
     },
     "execution_count": 15,
     "metadata": {},
     "output_type": "execute_result"
    }
   ],
   "source": [
    "cols"
   ]
  },
  {
   "cell_type": "code",
   "execution_count": 16,
   "metadata": {},
   "outputs": [],
   "source": [
    "allData = allData.drop(cols, axis = 1).astype(float)"
   ]
  },
  {
   "cell_type": "code",
   "execution_count": 17,
   "metadata": {},
   "outputs": [],
   "source": [
    "allData = allData[allData.aaScore.notna()]"
   ]
  },
  {
   "cell_type": "markdown",
   "metadata": {},
   "source": [
    "## Part D - Splits and scaling"
   ]
  },
  {
   "cell_type": "markdown",
   "metadata": {},
   "source": [
    "### Train/test split"
   ]
  },
  {
   "cell_type": "code",
   "execution_count": 18,
   "metadata": {},
   "outputs": [],
   "source": [
    "X_train, X_test, y_train, y_test = train_test_split(allData.drop(['aaScore'], axis = 1), \n",
    "                                                    allData.aaScore, test_size = 0.2, random_state = 11)"
   ]
  },
  {
   "cell_type": "code",
   "execution_count": 19,
   "metadata": {},
   "outputs": [],
   "source": [
    "y_test = pd.DataFrame(y_test)\n",
    "y_test['hold'] = 1\n",
    "y_train = pd.DataFrame(y_train)\n",
    "y_train['hold'] = 1"
   ]
  },
  {
   "cell_type": "code",
   "execution_count": 20,
   "metadata": {},
   "outputs": [],
   "source": [
    "xcols = X_train.columns\n",
    "ycols = y_train.columns"
   ]
  },
  {
   "cell_type": "markdown",
   "metadata": {},
   "source": [
    "### Scaling"
   ]
  },
  {
   "cell_type": "code",
   "execution_count": 21,
   "metadata": {},
   "outputs": [],
   "source": [
    "scaler = MinMaxScaler().fit(X_train)"
   ]
  },
  {
   "cell_type": "code",
   "execution_count": 22,
   "metadata": {},
   "outputs": [],
   "source": [
    "X_train = scaler.transform(X_train)\n",
    "X_test = scaler.transform(X_test)"
   ]
  },
  {
   "cell_type": "code",
   "execution_count": 23,
   "metadata": {},
   "outputs": [],
   "source": [
    "scalerY = MinMaxScaler().fit(y_train)"
   ]
  },
  {
   "cell_type": "code",
   "execution_count": 24,
   "metadata": {},
   "outputs": [],
   "source": [
    "y_train = scalerY.transform(y_train)\n",
    "y_test = scalerY.transform(y_test)"
   ]
  },
  {
   "cell_type": "code",
   "execution_count": 25,
   "metadata": {},
   "outputs": [],
   "source": [
    "X_train = pd.DataFrame(X_train, columns = xcols)\n",
    "X_test = pd.DataFrame(X_test, columns = xcols)\n",
    "y_train = pd.DataFrame(y_train, columns = ycols)\n",
    "y_test = pd.DataFrame(y_test, columns = ycols)"
   ]
  },
  {
   "cell_type": "code",
   "execution_count": 26,
   "metadata": {},
   "outputs": [],
   "source": [
    "y_train = y_train.drop(['hold'], axis = 1)\n",
    "y_test = y_test.drop(['hold'], axis = 1)"
   ]
  },
  {
   "cell_type": "code",
   "execution_count": 27,
   "metadata": {},
   "outputs": [
    {
     "data": {
      "text/plain": [
       "array([[<matplotlib.axes._subplots.AxesSubplot object at 0x000001D95462ACC8>]],\n",
       "      dtype=object)"
      ]
     },
     "execution_count": 27,
     "metadata": {},
     "output_type": "execute_result"
    },
    {
     "data": {
      "image/png": "[encoded data removed]",
      "text/plain": [
       "<Figure size 432x288 with 1 Axes>"
      ]
     },
     "metadata": {
      "needs_background": "light"
     },
     "output_type": "display_data"
    }
   ],
   "source": [
    "y_train.hist()"
   ]
  },
  {
   "cell_type": "markdown",
   "metadata": {},
   "source": [
    "## Part E - Predictions"
   ]
  },
  {
   "cell_type": "markdown",
   "metadata": {},
   "source": [
    "### \"Actual\" predictions"
   ]
  },
  {
   "cell_type": "code",
   "execution_count": 28,
   "metadata": {},
   "outputs": [
    {
     "name": "stderr",
     "output_type": "stream",
     "text": [
      "c:\\users\\laulck\\appdata\\local\\programs\\python\\python37\\lib\\site-packages\\sklearn\\ensemble\\gradient_boosting.py:1450: DataConversionWarning: A column-vector y was passed when a 1d array was expected. Please change the shape of y to (n_samples, ), for example using ravel().\n",
      "  y = column_or_1d(y, warn=True)\n"
     ]
    },
    {
     "data": {
      "text/plain": [
       "GradientBoostingRegressor(alpha=0.9, criterion='friedman_mse', init=None,\n",
       "                          learning_rate=0.1, loss='ls', max_depth=9,\n",
       "                          max_features=0.5, max_leaf_nodes=None,\n",
       "                          min_impurity_decrease=0.0, min_impurity_split=None,\n",
       "                          min_samples_leaf=5, min_samples_split=10,\n",
       "                          min_weight_fraction_leaf=0.0, n_estimators=100,\n",
       "                          n_iter_no_change=None, presort='auto',\n",
       "                          random_state=None, subsample=1.0, tol=0.0001,\n",
       "                          validation_fraction=0.1, verbose=0, warm_start=False)"
      ]
     },
     "execution_count": 28,
     "metadata": {},
     "output_type": "execute_result"
    }
   ],
   "source": [
    "xgb = GradientBoostingRegressor(**params)\n",
    "xgb.fit(X_train, y_train)"
   ]
  },
  {
   "cell_type": "markdown",
   "metadata": {},
   "source": [
    "### Lower bound"
   ]
  },
  {
   "cell_type": "code",
   "execution_count": 29,
   "metadata": {},
   "outputs": [
    {
     "name": "stderr",
     "output_type": "stream",
     "text": [
      "c:\\users\\laulck\\appdata\\local\\programs\\python\\python37\\lib\\site-packages\\sklearn\\ensemble\\gradient_boosting.py:1450: DataConversionWarning: A column-vector y was passed when a 1d array was expected. Please change the shape of y to (n_samples, ), for example using ravel().\n",
      "  y = column_or_1d(y, warn=True)\n"
     ]
    },
    {
     "data": {
      "text/plain": [
       "GradientBoostingRegressor(alpha=0.05, criterion='friedman_mse', init=None,\n",
       "                          learning_rate=0.1, loss='quantile', max_depth=9,\n",
       "                          max_features=0.5, max_leaf_nodes=None,\n",
       "                          min_impurity_decrease=0.0, min_impurity_split=None,\n",
       "                          min_samples_leaf=5, min_samples_split=10,\n",
       "                          min_weight_fraction_leaf=0.0, n_estimators=100,\n",
       "                          n_iter_no_change=None, presort='auto',\n",
       "                          random_state=None, subsample=1.0, tol=0.0001,\n",
       "                          validation_fraction=0.1, verbose=0, warm_start=False)"
      ]
     },
     "execution_count": 29,
     "metadata": {},
     "output_type": "execute_result"
    }
   ],
   "source": [
    "xgbLow = GradientBoostingRegressor(**params, loss='quantile', alpha = 0.05)\n",
    "xgbLow.fit(X_train, y_train)"
   ]
  },
  {
   "cell_type": "markdown",
   "metadata": {},
   "source": [
    "### Upper bound"
   ]
  },
  {
   "cell_type": "code",
   "execution_count": 30,
   "metadata": {},
   "outputs": [
    {
     "name": "stderr",
     "output_type": "stream",
     "text": [
      "c:\\users\\laulck\\appdata\\local\\programs\\python\\python37\\lib\\site-packages\\sklearn\\ensemble\\gradient_boosting.py:1450: DataConversionWarning: A column-vector y was passed when a 1d array was expected. Please change the shape of y to (n_samples, ), for example using ravel().\n",
      "  y = column_or_1d(y, warn=True)\n"
     ]
    },
    {
     "data": {
      "text/plain": [
       "GradientBoostingRegressor(alpha=0.95, criterion='friedman_mse', init=None,\n",
       "                          learning_rate=0.1, loss='quantile', max_depth=9,\n",
       "                          max_features=0.5, max_leaf_nodes=None,\n",
       "                          min_impurity_decrease=0.0, min_impurity_split=None,\n",
       "                          min_samples_leaf=5, min_samples_split=10,\n",
       "                          min_weight_fraction_leaf=0.0, n_estimators=100,\n",
       "                          n_iter_no_change=None, presort='auto',\n",
       "                          random_state=None, subsample=1.0, tol=0.0001,\n",
       "                          validation_fraction=0.1, verbose=0, warm_start=False)"
      ]
     },
     "execution_count": 30,
     "metadata": {},
     "output_type": "execute_result"
    }
   ],
   "source": [
    "xgbHigh = GradientBoostingRegressor(**params, loss='quantile', alpha = 0.95)\n",
    "xgbHigh.fit(X_train, y_train)"
   ]
  },
  {
   "cell_type": "markdown",
   "metadata": {},
   "source": [
    "## Part F - Check predictions"
   ]
  },
  {
   "cell_type": "markdown",
   "metadata": {},
   "source": [
    "### Density plots"
   ]
  },
  {
   "cell_type": "code",
   "execution_count": 31,
   "metadata": {},
   "outputs": [],
   "source": [
    "preds = pd.DataFrame(xgb.predict(X_train))\n",
    "preds['hold'] = 0\n",
    "y_rescaled = y_train.copy()\n",
    "y_rescaled['hold'] = 0"
   ]
  },
  {
   "cell_type": "code",
   "execution_count": 32,
   "metadata": {},
   "outputs": [],
   "source": [
    "preds_rescaled = scalerY.inverse_transform(preds)\n",
    "y_rescaled = scalerY.inverse_transform(y_rescaled)"
   ]
  },
  {
   "cell_type": "code",
   "execution_count": 33,
   "metadata": {},
   "outputs": [],
   "source": [
    "predsAll = pd.DataFrame(xgb.predict(X_train.append(X_test)))\n",
    "predsAll['hold'] = 0\n",
    "preds_all_rescaled = scalerY.inverse_transform(predsAll)[:,0]"
   ]
  },
  {
   "cell_type": "code",
   "execution_count": 34,
   "metadata": {},
   "outputs": [
    {
     "data": {
      "text/plain": [
       "Text(0, 0.5, 'Density')"
      ]
     },
     "execution_count": 34,
     "metadata": {},
     "output_type": "execute_result"
    },
    {
     "data": {
      "image/png": "[encoded data removed]",
      "text/plain": [
       "<Figure size 432x288 with 1 Axes>"
      ]
     },
     "metadata": {
      "needs_background": "light"
     },
     "output_type": "display_data"
    }
   ],
   "source": [
    "ax = plt.subplot(111)\n",
    "p = sns.distplot(allData.aaScore, bins = np.arange(0, allData.aaScore.max() + 2))\n",
    "p.set(xticks= np.arange(0.5, allData.aaScore.max() + 1.5), \n",
    "      xticklabels = [str(int(x)) for x in np.arange(0, allData.aaScore.max() + 1)],\n",
    "      zorder = 10);\n",
    "\n",
    "p2 = sns.distplot(preds_all_rescaled, bins = np.arange(0, allData.aaScore.max() + 2), color = 'red')\n",
    "p2.set(xticks= np.arange(0.5, allData.aaScore.max() + 1.5), \n",
    "      xticklabels = [str(int(x)) for x in np.arange(0, allData.aaScore.max() + 1)],\n",
    "      zorder = 10);\n",
    "\n",
    "# Hide the right and top spines\n",
    "ax.spines['right'].set_visible(False)\n",
    "ax.spines['top'].set_visible(False)\n",
    "\n",
    "# Only show ticks on the left and bottom spines\n",
    "ax.yaxis.set_ticks_position('left')\n",
    "ax.xaxis.set_ticks_position('bottom')\n",
    "\n",
    "ax.grid(axis = 'y', zorder = 1)\n",
    "\n",
    "plt.xlim([0, 19])\n",
    "\n",
    "plt.legend(['Actual', 'Predicted'])\n",
    "\n",
    "plt.xlabel('Academic Sub Score')\n",
    "plt.ylabel('Density')"
   ]
  },
  {
   "cell_type": "markdown",
   "metadata": {},
   "source": [
    "### Errors"
   ]
  },
  {
   "cell_type": "code",
   "execution_count": 35,
   "metadata": {},
   "outputs": [],
   "source": [
    "errors = (preds_rescaled[:,0] - y_rescaled[:,0])"
   ]
  },
  {
   "cell_type": "code",
   "execution_count": 36,
   "metadata": {},
   "outputs": [
    {
     "data": {
      "text/plain": [
       "<matplotlib.axes._subplots.AxesSubplot at 0x1d900442288>"
      ]
     },
     "execution_count": 36,
     "metadata": {},
     "output_type": "execute_result"
    },
    {
     "data": {
      "image/png": "[encoded data removed]",
      "text/plain": [
       "<Figure size 432x288 with 1 Axes>"
      ]
     },
     "metadata": {
      "needs_background": "light"
     },
     "output_type": "display_data"
    }
   ],
   "source": [
    "sns.distplot(errors)"
   ]
  },
  {
   "cell_type": "code",
   "execution_count": 37,
   "metadata": {},
   "outputs": [
    {
     "data": {
      "text/plain": [
       "<matplotlib.axes._subplots.AxesSubplot at 0x1d900548bc8>"
      ]
     },
     "execution_count": 37,
     "metadata": {},
     "output_type": "execute_result"
    },
    {
     "data": {
      "image/png": "[encoded data removed]",
      "text/plain": [
       "<Figure size 432x288 with 1 Axes>"
      ]
     },
     "metadata": {
      "needs_background": "light"
     },
     "output_type": "display_data"
    }
   ],
   "source": [
    "sns.boxplot(errors)"
   ]
  },
  {
   "cell_type": "code",
   "execution_count": 38,
   "metadata": {},
   "outputs": [
    {
     "data": {
      "text/plain": [
       "[<matplotlib.lines.Line2D at 0x1d9005b8088>]"
      ]
     },
     "execution_count": 38,
     "metadata": {},
     "output_type": "execute_result"
    },
    {
     "data": {
      "image/png": "[encoded data removed]",
      "text/plain": [
       "<Figure size 432x288 with 1 Axes>"
      ]
     },
     "metadata": {
      "needs_background": "light"
     },
     "output_type": "display_data"
    }
   ],
   "source": [
    "plt.scatter(preds_rescaled, y_rescaled)\n",
    "plt.plot(np.arange(0, 19), np.arange(0, 19), 'r-')"
   ]
  },
  {
   "cell_type": "markdown",
   "metadata": {},
   "source": [
    "### Create error DF"
   ]
  },
  {
   "cell_type": "code",
   "execution_count": 39,
   "metadata": {},
   "outputs": [],
   "source": [
    "preds_test_xgb = pd.DataFrame(xgb.predict(X_test))\n",
    "preds_test_xgb['hold'] = 0"
   ]
  },
  {
   "cell_type": "code",
   "execution_count": 40,
   "metadata": {},
   "outputs": [],
   "source": [
    "preds_test_xgb_low = pd.DataFrame(xgbLow.predict(X_test))\n",
    "preds_test_xgb_low['hold'] = 0"
   ]
  },
  {
   "cell_type": "code",
   "execution_count": 41,
   "metadata": {},
   "outputs": [],
   "source": [
    "preds_test_xgb_high = pd.DataFrame(xgbHigh.predict(X_test))\n",
    "preds_test_xgb_high['hold'] = 0"
   ]
  },
  {
   "cell_type": "code",
   "execution_count": 42,
   "metadata": {},
   "outputs": [],
   "source": [
    "y_test_rescaled = y_test.copy()\n",
    "y_test_rescaled['hold'] = 0"
   ]
  },
  {
   "cell_type": "code",
   "execution_count": 43,
   "metadata": {},
   "outputs": [],
   "source": [
    "preds_test_xgb = scalerY.inverse_transform(preds_test_xgb)[:,0]\n",
    "preds_test_xgb_low = scalerY.inverse_transform(preds_test_xgb_low)[:,0]\n",
    "preds_test_xgb_high = scalerY.inverse_transform(preds_test_xgb_high)[:,0]\n",
    "y_test_rescaled = scalerY.inverse_transform(y_test_rescaled)[:,0]"
   ]
  },
  {
   "cell_type": "code",
   "execution_count": 44,
   "metadata": {},
   "outputs": [],
   "source": [
    "outs = pd.DataFrame({'low': preds_test_xgb_low, 'mid': preds_test_xgb, 'high': preds_test_xgb_high, 'actual': y_test_rescaled})"
   ]
  },
  {
   "cell_type": "code",
   "execution_count": 45,
   "metadata": {},
   "outputs": [],
   "source": [
    "outs['check'] = (outs['actual'] >= outs['low']) & (outs['actual'] <= outs['high'])"
   ]
  },
  {
   "cell_type": "code",
   "execution_count": 46,
   "metadata": {},
   "outputs": [
    {
     "data": {
      "text/html": [
       "<div>\n",
       "<style scoped>\n",
       "    .dataframe tbody tr th:only-of-type {\n",
       "        vertical-align: middle;\n",
       "    }\n",
       "\n",
       "    .dataframe tbody tr th {\n",
       "        vertical-align: top;\n",
       "    }\n",
       "\n",
       "    .dataframe thead th {\n",
       "        text-align: right;\n",
       "    }\n",
       "</style>\n",
       "<table border=\"1\" class=\"dataframe\">\n",
       "  <thead>\n",
       "    <tr style=\"text-align: right;\">\n",
       "      <th></th>\n",
       "      <th>low</th>\n",
       "      <th>mid</th>\n",
       "      <th>high</th>\n",
       "      <th>actual</th>\n",
       "      <th>check</th>\n",
       "    </tr>\n",
       "  </thead>\n",
       "  <tbody>\n",
       "    <tr>\n",
       "      <td>0</td>\n",
       "      <td>7.599864</td>\n",
       "      <td>9.713259</td>\n",
       "      <td>11.900009</td>\n",
       "      <td>10.0</td>\n",
       "      <td>True</td>\n",
       "    </tr>\n",
       "    <tr>\n",
       "      <td>1</td>\n",
       "      <td>10.092251</td>\n",
       "      <td>12.468051</td>\n",
       "      <td>14.048719</td>\n",
       "      <td>13.0</td>\n",
       "      <td>True</td>\n",
       "    </tr>\n",
       "    <tr>\n",
       "      <td>2</td>\n",
       "      <td>13.417428</td>\n",
       "      <td>14.881675</td>\n",
       "      <td>16.442244</td>\n",
       "      <td>16.0</td>\n",
       "      <td>True</td>\n",
       "    </tr>\n",
       "    <tr>\n",
       "      <td>3</td>\n",
       "      <td>11.436844</td>\n",
       "      <td>13.127181</td>\n",
       "      <td>14.857626</td>\n",
       "      <td>14.0</td>\n",
       "      <td>True</td>\n",
       "    </tr>\n",
       "    <tr>\n",
       "      <td>4</td>\n",
       "      <td>8.443987</td>\n",
       "      <td>10.353549</td>\n",
       "      <td>12.135551</td>\n",
       "      <td>9.0</td>\n",
       "      <td>True</td>\n",
       "    </tr>\n",
       "    <tr>\n",
       "      <td>...</td>\n",
       "      <td>...</td>\n",
       "      <td>...</td>\n",
       "      <td>...</td>\n",
       "      <td>...</td>\n",
       "      <td>...</td>\n",
       "    </tr>\n",
       "    <tr>\n",
       "      <td>17588</td>\n",
       "      <td>11.700117</td>\n",
       "      <td>13.479984</td>\n",
       "      <td>15.041388</td>\n",
       "      <td>14.0</td>\n",
       "      <td>True</td>\n",
       "    </tr>\n",
       "    <tr>\n",
       "      <td>17589</td>\n",
       "      <td>11.857465</td>\n",
       "      <td>13.223630</td>\n",
       "      <td>14.304000</td>\n",
       "      <td>13.0</td>\n",
       "      <td>True</td>\n",
       "    </tr>\n",
       "    <tr>\n",
       "      <td>17590</td>\n",
       "      <td>12.158052</td>\n",
       "      <td>13.507832</td>\n",
       "      <td>15.453585</td>\n",
       "      <td>12.0</td>\n",
       "      <td>False</td>\n",
       "    </tr>\n",
       "    <tr>\n",
       "      <td>17591</td>\n",
       "      <td>12.115001</td>\n",
       "      <td>13.338914</td>\n",
       "      <td>14.930361</td>\n",
       "      <td>12.0</td>\n",
       "      <td>False</td>\n",
       "    </tr>\n",
       "    <tr>\n",
       "      <td>17592</td>\n",
       "      <td>12.361395</td>\n",
       "      <td>13.675475</td>\n",
       "      <td>15.177489</td>\n",
       "      <td>13.0</td>\n",
       "      <td>True</td>\n",
       "    </tr>\n",
       "  </tbody>\n",
       "</table>\n",
       "<p>17593 rows × 5 columns</p>\n",
       "</div>"
      ],
      "text/plain": [
       "             low        mid       high  actual  check\n",
       "0       7.599864   9.713259  11.900009    10.0   True\n",
       "1      10.092251  12.468051  14.048719    13.0   True\n",
       "2      13.417428  14.881675  16.442244    16.0   True\n",
       "3      11.436844  13.127181  14.857626    14.0   True\n",
       "4       8.443987  10.353549  12.135551     9.0   True\n",
       "...          ...        ...        ...     ...    ...\n",
       "17588  11.700117  13.479984  15.041388    14.0   True\n",
       "17589  11.857465  13.223630  14.304000    13.0   True\n",
       "17590  12.158052  13.507832  15.453585    12.0  False\n",
       "17591  12.115001  13.338914  14.930361    12.0  False\n",
       "17592  12.361395  13.675475  15.177489    13.0   True\n",
       "\n",
       "[17593 rows x 5 columns]"
      ]
     },
     "execution_count": 46,
     "metadata": {},
     "output_type": "execute_result"
    }
   ],
   "source": [
    "outs"
   ]
  },
  {
   "cell_type": "code",
   "execution_count": 47,
   "metadata": {},
   "outputs": [
    {
     "data": {
      "text/plain": [
       "0.8472119593019951"
      ]
     },
     "execution_count": 47,
     "metadata": {},
     "output_type": "execute_result"
    }
   ],
   "source": [
    "outs.check.sum() / len(outs) #How many times are we between the bounds established?"
   ]
  },
  {
   "cell_type": "markdown",
   "metadata": {},
   "source": [
    "### Round predictions"
   ]
  },
  {
   "cell_type": "code",
   "execution_count": 48,
   "metadata": {},
   "outputs": [
    {
     "data": {
      "text/plain": [
       "[<matplotlib.lines.Line2D at 0x1d954d34cc8>]"
      ]
     },
     "execution_count": 48,
     "metadata": {},
     "output_type": "execute_result"
    },
    {
     "data": {
      "image/png": "[encoded data removed]",
      "text/plain": [
       "<Figure size 432x288 with 1 Axes>"
      ]
     },
     "metadata": {
      "needs_background": "light"
     },
     "output_type": "display_data"
    }
   ],
   "source": [
    "plt.scatter(preds_test_xgb, y_test_rescaled)\n",
    "plt.plot(np.arange(0, 19), np.arange(0, 19), 'r-')"
   ]
  },
  {
   "cell_type": "code",
   "execution_count": 49,
   "metadata": {},
   "outputs": [
    {
     "data": {
      "text/plain": [
       "1.0813414895769504"
      ]
     },
     "execution_count": 49,
     "metadata": {},
     "output_type": "execute_result"
    }
   ],
   "source": [
    "np.sqrt(mean_squared_error(preds_test_xgb, y_test_rescaled))"
   ]
  },
  {
   "cell_type": "code",
   "execution_count": 50,
   "metadata": {},
   "outputs": [],
   "source": [
    "rounded = np.round(preds_test_xgb)"
   ]
  },
  {
   "cell_type": "code",
   "execution_count": 51,
   "metadata": {},
   "outputs": [
    {
     "data": {
      "text/plain": [
       "<matplotlib.collections.PathCollection at 0x1d9006dc0c8>"
      ]
     },
     "execution_count": 51,
     "metadata": {},
     "output_type": "execute_result"
    },
    {
     "data": {
      "image/png": "[encoded data removed]",
      "text/plain": [
       "<Figure size 432x288 with 1 Axes>"
      ]
     },
     "metadata": {
      "needs_background": "light"
     },
     "output_type": "display_data"
    }
   ],
   "source": [
    "plt.scatter(rounded, y_test_rescaled, alpha = 0.1)"
   ]
  },
  {
   "cell_type": "code",
   "execution_count": 52,
   "metadata": {},
   "outputs": [],
   "source": [
    "yhatSeries = pd.Series(rounded)"
   ]
  },
  {
   "cell_type": "code",
   "execution_count": 53,
   "metadata": {},
   "outputs": [],
   "source": [
    "ySeries = pd.Series(y_test_rescaled)"
   ]
  },
  {
   "cell_type": "code",
   "execution_count": 54,
   "metadata": {},
   "outputs": [
    {
     "data": {
      "text/plain": [
       "(array([   8.,   23.,   69.,  210.,  390.,  673., 1136., 3536., 2299.,\n",
       "        2464., 2533., 2085., 1404.,  763.]),\n",
       " array([ 2.        ,  3.14285714,  4.28571429,  5.42857143,  6.57142857,\n",
       "         7.71428571,  8.85714286, 10.        , 11.14285714, 12.28571429,\n",
       "        13.42857143, 14.57142857, 15.71428571, 16.85714286, 18.        ]),\n",
       " <a list of 14 Patch objects>)"
      ]
     },
     "execution_count": 54,
     "metadata": {},
     "output_type": "execute_result"
    },
    {
     "data": {
      "image/png": "[encoded data removed]",
      "text/plain": [
       "<Figure size 432x288 with 1 Axes>"
      ]
     },
     "metadata": {
      "needs_background": "light"
     },
     "output_type": "display_data"
    }
   ],
   "source": [
    "plt.hist(rounded, bins = 14)"
   ]
  },
  {
   "cell_type": "code",
   "execution_count": 55,
   "metadata": {},
   "outputs": [
    {
     "data": {
      "text/plain": [
       "(array([2.000e+01, 3.000e+00, 1.090e+02, 1.800e+01, 4.600e+02, 1.060e+02,\n",
       "        1.220e+03, 4.220e+02, 2.262e+03, 1.030e+03, 3.022e+03, 1.591e+03,\n",
       "        3.546e+03, 8.100e+02, 2.149e+03, 8.250e+02]),\n",
       " array([ 2.,  3.,  4.,  5.,  6.,  7.,  8.,  9., 10., 11., 12., 13., 14.,\n",
       "        15., 16., 17., 18.]),\n",
       " <a list of 16 Patch objects>)"
      ]
     },
     "execution_count": 55,
     "metadata": {},
     "output_type": "execute_result"
    },
    {
     "data": {
      "image/png": "[encoded data removed]",
      "text/plain": [
       "<Figure size 432x288 with 1 Axes>"
      ]
     },
     "metadata": {
      "needs_background": "light"
     },
     "output_type": "display_data"
    }
   ],
   "source": [
    "plt.hist(y_test_rescaled, bins = 16)"
   ]
  },
  {
   "cell_type": "code",
   "execution_count": 56,
   "metadata": {},
   "outputs": [],
   "source": [
    "diffs = ySeries - rounded"
   ]
  },
  {
   "cell_type": "code",
   "execution_count": 57,
   "metadata": {},
   "outputs": [
    {
     "data": {
      "text/plain": [
       "(array([5.000e+00, 1.200e+01, 5.600e+01, 1.280e+03, 3.903e+03, 6.843e+03,\n",
       "        5.306e+03, 1.470e+02, 3.500e+01, 6.000e+00]),\n",
       " array([-7. , -5.7, -4.4, -3.1, -1.8, -0.5,  0.8,  2.1,  3.4,  4.7,  6. ]),\n",
       " <a list of 10 Patch objects>)"
      ]
     },
     "execution_count": 57,
     "metadata": {},
     "output_type": "execute_result"
    },
    {
     "data": {
      "image/png": "[encoded data removed]",
      "text/plain": [
       "<Figure size 432x288 with 1 Axes>"
      ]
     },
     "metadata": {
      "needs_background": "light"
     },
     "output_type": "display_data"
    }
   ],
   "source": [
    "plt.hist(diffs)"
   ]
  },
  {
   "cell_type": "markdown",
   "metadata": {},
   "source": [
    "## Part G - Check prediction performance"
   ]
  },
  {
   "cell_type": "code",
   "execution_count": 58,
   "metadata": {},
   "outputs": [
    {
     "data": {
      "text/plain": [
       "1.0    8192\n",
       "0.0    6843\n",
       "2.0    2056\n",
       "3.0     388\n",
       "4.0      91\n",
       "5.0      17\n",
       "7.0       3\n",
       "6.0       3\n",
       "dtype: int64"
      ]
     },
     "execution_count": 58,
     "metadata": {},
     "output_type": "execute_result"
    }
   ],
   "source": [
    "counts = np.round(np.abs(diffs)).value_counts()\n",
    "counts"
   ]
  },
  {
   "cell_type": "code",
   "execution_count": 59,
   "metadata": {},
   "outputs": [
    {
     "data": {
      "text/plain": [
       "[38.89615187858808, 85.46012618655146, 97.14659239470244]"
      ]
     },
     "execution_count": 59,
     "metadata": {},
     "output_type": "execute_result"
    }
   ],
   "source": [
    "# Bar errors: what pct of time are we correct? Off by <=1 point? Off by <=2 points?\n",
    "total = counts.sum()\n",
    "\n",
    "bars = [counts[0] / total * 100, (counts[0] + counts[1]) / total * 100, \n",
    " (counts[0] + counts[1] + counts[2]) / total * 100]\n",
    "bars"
   ]
  },
  {
   "cell_type": "code",
   "execution_count": 60,
   "metadata": {},
   "outputs": [
    {
     "name": "stdout",
     "output_type": "stream",
     "text": [
      "0.1 7485 10.636634929657525\n",
      "0.5 34667 49.26389086258349\n",
      "1.0 56316 80.02842120221685\n",
      "2.0 68846 97.83430439107575\n"
     ]
    }
   ],
   "source": [
    "# Similar to above only not using rounded values\n",
    "total = len(errors)\n",
    "\n",
    "abs_errors = np.abs(errors)\n",
    "cumSteps = []\n",
    "cum = []\n",
    "step = 0.001\n",
    "for current in np.arange(0, 2.5 + step, step):\n",
    "    value = len(abs_errors[abs_errors < current])\n",
    "    cum.append(value)\n",
    "    if current in [0.1, 0.5, 1, 2]:\n",
    "        print (current, value, value / total * 100)\n",
    "        cumSteps.append((current, value / total * 100))\n",
    "    \n",
    "cum = np.array(cum) / total * 100"
   ]
  },
  {
   "cell_type": "code",
   "execution_count": 61,
   "metadata": {},
   "outputs": [
    {
     "data": {
      "text/plain": [
       "Text(0, 0.5, 'Pct of Held Out (cumulative)')"
      ]
     },
     "execution_count": 61,
     "metadata": {},
     "output_type": "execute_result"
    },
    {
     "data": {
      "image/png": "[encoded data removed]",
      "text/plain": [
       "<Figure size 432x288 with 1 Axes>"
      ]
     },
     "metadata": {
      "needs_background": "light"
     },
     "output_type": "display_data"
    }
   ],
   "source": [
    "#plot of bars from above\n",
    "ax = plt.subplot(111)\n",
    "plt.plot(np.arange(0, 2.5 + step, step), cum)\n",
    "plt.bar([0, 1, 2], bars, width = 0.2, alpha = 0.5)\n",
    "plt.plot([])\n",
    "plt.xlim([-0.15, 2.5])\n",
    "plt.ylim(-1, 101)\n",
    "\n",
    "\n",
    "# Hide the right and top spines\n",
    "ax.spines['right'].set_visible(False)\n",
    "ax.spines['top'].set_visible(False)\n",
    "\n",
    "# Only show ticks on the left and bottom spines\n",
    "ax.yaxis.set_ticks_position('left')\n",
    "ax.xaxis.set_ticks_position('bottom')\n",
    "\n",
    "ax.grid(axis = 'y')\n",
    "\n",
    "plt.xlabel('Error')\n",
    "plt.ylabel('Pct of Held Out (cumulative)')"
   ]
  },
  {
   "cell_type": "code",
   "execution_count": 62,
   "metadata": {},
   "outputs": [
    {
     "name": "stdout",
     "output_type": "stream",
     "text": [
      "RMSE:  1.0813414895769504\n",
      "Median:  0.6671454948767188\n",
      "Bar errors: [38.89615187858808, 85.46012618655146, 97.14659239470244]\n",
      "Cum errors: [(0.1, 10.636634929657525), (0.5, 49.26389086258349), (1.0, 80.02842120221685), (2.0, 97.83430439107575)]\n"
     ]
    }
   ],
   "source": [
    "print (\"RMSE: \", np.sqrt(mean_squared_error(preds_test_xgb, y_test_rescaled)))\n",
    "print (\"Median: \", np.median(np.abs(preds_test_xgb - y_test_rescaled)))\n",
    "print (\"Bar errors:\", bars)\n",
    "print (\"Cum errors:\", cumSteps)"
   ]
  },
  {
   "cell_type": "markdown",
   "metadata": {},
   "source": [
    "## Part H - Save errors"
   ]
  },
  {
   "cell_type": "code",
   "execution_count": 63,
   "metadata": {},
   "outputs": [],
   "source": [
    "if saveErrors:\n",
    "    errorFile = '../../outputs/errorsAa' + studentTag.title().replace('-','') + '.csv'\n",
    "    outs.to_csv(errorFile, index = False)"
   ]
  },
  {
   "cell_type": "markdown",
   "metadata": {},
   "source": [
    "## Part I - Historic predictions"
   ]
  },
  {
   "cell_type": "code",
   "execution_count": 64,
   "metadata": {},
   "outputs": [],
   "source": [
    "#RES\n",
    "\n",
    "#RMSE:  0.9981273978337988\n",
    "#Median:  0.6192058332745018\n",
    "#Bar errors: [41.260245901639344, 87.73565573770492, 98.20696721311475]\n",
    "#Cum errors: [(0.1, 9.88318475253612), (0.5, 46.677425965775186), (1.0, 77.66676913618198), (2.0, 97.589404652116)]"
   ]
  },
  {
   "cell_type": "code",
   "execution_count": 65,
   "metadata": {},
   "outputs": [],
   "source": [
    "#DNR\n",
    "\n",
    "#RMSE:  1.0813340900226154\n",
    "#Median:  0.6629645098934969\n",
    "#Bar errors: [38.99278121980333, 85.19865855738078, 97.16364463138748]\n",
    "#Cum errors: [(0.1, 10.444791814693762), (0.5, 49.10046894983658), (1.0, 79.87636777035668), (2.0, 97.85419923262754)]"
   ]
  },
  {
   "cell_type": "code",
   "execution_count": 66,
   "metadata": {},
   "outputs": [],
   "source": [
    "#INTL\n",
    "\n",
    "#RMSE:  2.329473159820949\n",
    "#Median:  0.9684474713059008\n",
    "#Bar errors: [33.27356557377049, 63.70389344262295, 79.41854508196722]\n",
    "#Cum errors: [(0.1, 11.142418032786885), (0.5, 41.26857069672131), (1.0, 62.247054303278695), (2.0, 82.95658299180327)]"
   ]
  }
 ],
 "metadata": {
  "kernelspec": {
   "display_name": "Python 3",
   "language": "python",
   "name": "python3"
  },
  "language_info": {
   "codemirror_mode": {
    "name": "ipython",
    "version": 3
   },
   "file_extension": ".py",
   "mimetype": "text/x-python",
   "name": "python",
   "nbconvert_exporter": "python",
   "pygments_lexer": "ipython3",
   "version": "3.7.4"
  }
 },
 "nbformat": 4,
 "nbformat_minor": 2
}
